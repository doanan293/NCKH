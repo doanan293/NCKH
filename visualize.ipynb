{
 "cells": [
  {
   "cell_type": "markdown",
   "metadata": {},
   "source": [
    "# Visualization: Trading Session"
   ]
  },
  {
   "cell_type": "code",
   "execution_count": 1,
   "metadata": {
    "ExecuteTime": {
     "end_time": "2024-03-19T14:16:02.746460Z",
     "start_time": "2024-03-19T14:16:01.932637Z"
    }
   },
   "outputs": [],
   "source": [
    "import pandas as pd\n",
    "import numpy as np\n",
    "\n",
    "import altair as alt\n",
    "import seaborn as sns"
   ]
  },
  {
   "cell_type": "markdown",
   "metadata": {},
   "source": [
    "### 1. Define parameters and Load model"
   ]
  },
  {
   "cell_type": "code",
   "outputs": [
    {
     "name": "stderr",
     "output_type": "stream",
     "text": [
      "Using TensorFlow backend.\n"
     ]
    },
    {
     "ename": "OSError",
     "evalue": "Unable to open file (file signature not found)",
     "output_type": "error",
     "traceback": [
      "\u001B[1;31m---------------------------------------------------------------------------\u001B[0m",
      "\u001B[1;31mOSError\u001B[0m                                   Traceback (most recent call last)",
      "\u001B[1;32m<ipython-input-2-6fd6ba4cc597>\u001B[0m in \u001B[0;36m<module>\u001B[1;34m\u001B[0m\n\u001B[0;32m      6\u001B[0m \u001B[0mdebug\u001B[0m \u001B[1;33m=\u001B[0m \u001B[1;32mTrue\u001B[0m\u001B[1;33m\u001B[0m\u001B[1;33m\u001B[0m\u001B[0m\n\u001B[0;32m      7\u001B[0m \u001B[1;33m\u001B[0m\u001B[0m\n\u001B[1;32m----> 8\u001B[1;33m \u001B[0magent\u001B[0m \u001B[1;33m=\u001B[0m \u001B[0mAgent\u001B[0m\u001B[1;33m(\u001B[0m\u001B[0mwindow_size\u001B[0m\u001B[1;33m,\u001B[0m \u001B[0mpretrained\u001B[0m\u001B[1;33m=\u001B[0m\u001B[1;32mTrue\u001B[0m\u001B[1;33m,\u001B[0m \u001B[0mmodel_name\u001B[0m\u001B[1;33m=\u001B[0m\u001B[0mmodel_name\u001B[0m\u001B[1;33m)\u001B[0m\u001B[1;33m\u001B[0m\u001B[1;33m\u001B[0m\u001B[0m\n\u001B[0m",
      "\u001B[1;32mD:\\Test1\\trading-bot-master\\trading_bot\\agent.py\u001B[0m in \u001B[0;36m__init__\u001B[1;34m(self, state_size, strategy, reset_every, pretrained, model_name)\u001B[0m\n\u001B[0;32m     51\u001B[0m \u001B[1;33m\u001B[0m\u001B[0m\n\u001B[0;32m     52\u001B[0m         \u001B[1;32mif\u001B[0m \u001B[0mpretrained\u001B[0m \u001B[1;32mand\u001B[0m \u001B[0mself\u001B[0m\u001B[1;33m.\u001B[0m\u001B[0mmodel_name\u001B[0m \u001B[1;32mis\u001B[0m \u001B[1;32mnot\u001B[0m \u001B[1;32mNone\u001B[0m\u001B[1;33m:\u001B[0m\u001B[1;33m\u001B[0m\u001B[1;33m\u001B[0m\u001B[0m\n\u001B[1;32m---> 53\u001B[1;33m             \u001B[0mself\u001B[0m\u001B[1;33m.\u001B[0m\u001B[0mmodel\u001B[0m \u001B[1;33m=\u001B[0m \u001B[0mself\u001B[0m\u001B[1;33m.\u001B[0m\u001B[0mload\u001B[0m\u001B[1;33m(\u001B[0m\u001B[1;33m)\u001B[0m\u001B[1;33m\u001B[0m\u001B[1;33m\u001B[0m\u001B[0m\n\u001B[0m\u001B[0;32m     54\u001B[0m         \u001B[1;32melse\u001B[0m\u001B[1;33m:\u001B[0m\u001B[1;33m\u001B[0m\u001B[1;33m\u001B[0m\u001B[0m\n\u001B[0;32m     55\u001B[0m             \u001B[0mself\u001B[0m\u001B[1;33m.\u001B[0m\u001B[0mmodel\u001B[0m \u001B[1;33m=\u001B[0m \u001B[0mself\u001B[0m\u001B[1;33m.\u001B[0m\u001B[0m_model\u001B[0m\u001B[1;33m(\u001B[0m\u001B[1;33m)\u001B[0m\u001B[1;33m\u001B[0m\u001B[1;33m\u001B[0m\u001B[0m\n",
      "\u001B[1;32mD:\\Test1\\trading-bot-master\\trading_bot\\agent.py\u001B[0m in \u001B[0;36mload\u001B[1;34m(self)\u001B[0m\n\u001B[0;32m    181\u001B[0m \u001B[1;33m\u001B[0m\u001B[0m\n\u001B[0;32m    182\u001B[0m     \u001B[1;32mdef\u001B[0m \u001B[0mload\u001B[0m\u001B[1;33m(\u001B[0m\u001B[0mself\u001B[0m\u001B[1;33m)\u001B[0m\u001B[1;33m:\u001B[0m\u001B[1;33m\u001B[0m\u001B[1;33m\u001B[0m\u001B[0m\n\u001B[1;32m--> 183\u001B[1;33m         \u001B[1;32mreturn\u001B[0m \u001B[0mload_model\u001B[0m\u001B[1;33m(\u001B[0m\u001B[1;34m\"models/\"\u001B[0m \u001B[1;33m+\u001B[0m \u001B[0mself\u001B[0m\u001B[1;33m.\u001B[0m\u001B[0mmodel_name\u001B[0m\u001B[1;33m,\u001B[0m \u001B[0mcustom_objects\u001B[0m\u001B[1;33m=\u001B[0m\u001B[0mself\u001B[0m\u001B[1;33m.\u001B[0m\u001B[0mcustom_objects\u001B[0m\u001B[1;33m)\u001B[0m\u001B[1;33m\u001B[0m\u001B[1;33m\u001B[0m\u001B[0m\n\u001B[0m",
      "\u001B[1;32mD:\\Test1\\trading-bot-master\\venv\\lib\\site-packages\\keras\\engine\\saving.py\u001B[0m in \u001B[0;36mload_wrapper\u001B[1;34m(*args, **kwargs)\u001B[0m\n\u001B[0;32m    490\u001B[0m                 \u001B[0mos\u001B[0m\u001B[1;33m.\u001B[0m\u001B[0mremove\u001B[0m\u001B[1;33m(\u001B[0m\u001B[0mtmp_filepath\u001B[0m\u001B[1;33m)\u001B[0m\u001B[1;33m\u001B[0m\u001B[1;33m\u001B[0m\u001B[0m\n\u001B[0;32m    491\u001B[0m             \u001B[1;32mreturn\u001B[0m \u001B[0mres\u001B[0m\u001B[1;33m\u001B[0m\u001B[1;33m\u001B[0m\u001B[0m\n\u001B[1;32m--> 492\u001B[1;33m         \u001B[1;32mreturn\u001B[0m \u001B[0mload_function\u001B[0m\u001B[1;33m(\u001B[0m\u001B[1;33m*\u001B[0m\u001B[0margs\u001B[0m\u001B[1;33m,\u001B[0m \u001B[1;33m**\u001B[0m\u001B[0mkwargs\u001B[0m\u001B[1;33m)\u001B[0m\u001B[1;33m\u001B[0m\u001B[1;33m\u001B[0m\u001B[0m\n\u001B[0m\u001B[0;32m    493\u001B[0m \u001B[1;33m\u001B[0m\u001B[0m\n\u001B[0;32m    494\u001B[0m     \u001B[1;32mreturn\u001B[0m \u001B[0mload_wrapper\u001B[0m\u001B[1;33m\u001B[0m\u001B[1;33m\u001B[0m\u001B[0m\n",
      "\u001B[1;32mD:\\Test1\\trading-bot-master\\venv\\lib\\site-packages\\keras\\engine\\saving.py\u001B[0m in \u001B[0;36mload_model\u001B[1;34m(filepath, custom_objects, compile)\u001B[0m\n\u001B[0;32m    581\u001B[0m \u001B[1;33m\u001B[0m\u001B[0m\n\u001B[0;32m    582\u001B[0m     \u001B[1;32mif\u001B[0m \u001B[0mH5Dict\u001B[0m\u001B[1;33m.\u001B[0m\u001B[0mis_supported_type\u001B[0m\u001B[1;33m(\u001B[0m\u001B[0mfilepath\u001B[0m\u001B[1;33m)\u001B[0m\u001B[1;33m:\u001B[0m\u001B[1;33m\u001B[0m\u001B[1;33m\u001B[0m\u001B[0m\n\u001B[1;32m--> 583\u001B[1;33m         \u001B[1;32mwith\u001B[0m \u001B[0mH5Dict\u001B[0m\u001B[1;33m(\u001B[0m\u001B[0mfilepath\u001B[0m\u001B[1;33m,\u001B[0m \u001B[0mmode\u001B[0m\u001B[1;33m=\u001B[0m\u001B[1;34m'r'\u001B[0m\u001B[1;33m)\u001B[0m \u001B[1;32mas\u001B[0m \u001B[0mh5dict\u001B[0m\u001B[1;33m:\u001B[0m\u001B[1;33m\u001B[0m\u001B[1;33m\u001B[0m\u001B[0m\n\u001B[0m\u001B[0;32m    584\u001B[0m             \u001B[0mmodel\u001B[0m \u001B[1;33m=\u001B[0m \u001B[0m_deserialize_model\u001B[0m\u001B[1;33m(\u001B[0m\u001B[0mh5dict\u001B[0m\u001B[1;33m,\u001B[0m \u001B[0mcustom_objects\u001B[0m\u001B[1;33m,\u001B[0m \u001B[0mcompile\u001B[0m\u001B[1;33m)\u001B[0m\u001B[1;33m\u001B[0m\u001B[1;33m\u001B[0m\u001B[0m\n\u001B[0;32m    585\u001B[0m     \u001B[1;32melif\u001B[0m \u001B[0mhasattr\u001B[0m\u001B[1;33m(\u001B[0m\u001B[0mfilepath\u001B[0m\u001B[1;33m,\u001B[0m \u001B[1;34m'write'\u001B[0m\u001B[1;33m)\u001B[0m \u001B[1;32mand\u001B[0m \u001B[0mcallable\u001B[0m\u001B[1;33m(\u001B[0m\u001B[0mfilepath\u001B[0m\u001B[1;33m.\u001B[0m\u001B[0mwrite\u001B[0m\u001B[1;33m)\u001B[0m\u001B[1;33m:\u001B[0m\u001B[1;33m\u001B[0m\u001B[1;33m\u001B[0m\u001B[0m\n",
      "\u001B[1;32mD:\\Test1\\trading-bot-master\\venv\\lib\\site-packages\\keras\\utils\\io_utils.py\u001B[0m in \u001B[0;36m__init__\u001B[1;34m(self, path, mode)\u001B[0m\n\u001B[0;32m    189\u001B[0m             \u001B[0mself\u001B[0m\u001B[1;33m.\u001B[0m\u001B[0m_is_file\u001B[0m \u001B[1;33m=\u001B[0m \u001B[1;32mFalse\u001B[0m\u001B[1;33m\u001B[0m\u001B[1;33m\u001B[0m\u001B[0m\n\u001B[0;32m    190\u001B[0m         \u001B[1;32melif\u001B[0m \u001B[0misinstance\u001B[0m\u001B[1;33m(\u001B[0m\u001B[0mpath\u001B[0m\u001B[1;33m,\u001B[0m \u001B[0msix\u001B[0m\u001B[1;33m.\u001B[0m\u001B[0mstring_types\u001B[0m\u001B[1;33m)\u001B[0m \u001B[1;32mor\u001B[0m \u001B[0m_is_path_instance\u001B[0m\u001B[1;33m(\u001B[0m\u001B[0mpath\u001B[0m\u001B[1;33m)\u001B[0m\u001B[1;33m:\u001B[0m\u001B[1;33m\u001B[0m\u001B[1;33m\u001B[0m\u001B[0m\n\u001B[1;32m--> 191\u001B[1;33m             \u001B[0mself\u001B[0m\u001B[1;33m.\u001B[0m\u001B[0mdata\u001B[0m \u001B[1;33m=\u001B[0m \u001B[0mh5py\u001B[0m\u001B[1;33m.\u001B[0m\u001B[0mFile\u001B[0m\u001B[1;33m(\u001B[0m\u001B[0mpath\u001B[0m\u001B[1;33m,\u001B[0m \u001B[0mmode\u001B[0m\u001B[1;33m=\u001B[0m\u001B[0mmode\u001B[0m\u001B[1;33m)\u001B[0m\u001B[1;33m\u001B[0m\u001B[1;33m\u001B[0m\u001B[0m\n\u001B[0m\u001B[0;32m    192\u001B[0m             \u001B[0mself\u001B[0m\u001B[1;33m.\u001B[0m\u001B[0m_is_file\u001B[0m \u001B[1;33m=\u001B[0m \u001B[1;32mTrue\u001B[0m\u001B[1;33m\u001B[0m\u001B[1;33m\u001B[0m\u001B[0m\n\u001B[0;32m    193\u001B[0m         \u001B[1;32melif\u001B[0m \u001B[0misinstance\u001B[0m\u001B[1;33m(\u001B[0m\u001B[0mpath\u001B[0m\u001B[1;33m,\u001B[0m \u001B[0mdict\u001B[0m\u001B[1;33m)\u001B[0m\u001B[1;33m:\u001B[0m\u001B[1;33m\u001B[0m\u001B[1;33m\u001B[0m\u001B[0m\n",
      "\u001B[1;32mD:\\Test1\\trading-bot-master\\venv\\lib\\site-packages\\h5py\\_hl\\files.py\u001B[0m in \u001B[0;36m__init__\u001B[1;34m(self, name, mode, driver, libver, userblock_size, swmr, rdcc_nslots, rdcc_nbytes, rdcc_w0, track_order, fs_strategy, fs_persist, fs_threshold, **kwds)\u001B[0m\n\u001B[0;32m    425\u001B[0m                                fapl, fcpl=make_fcpl(track_order=track_order, fs_strategy=fs_strategy,\n\u001B[0;32m    426\u001B[0m                                fs_persist=fs_persist, fs_threshold=fs_threshold),\n\u001B[1;32m--> 427\u001B[1;33m                                swmr=swmr)\n\u001B[0m\u001B[0;32m    428\u001B[0m \u001B[1;33m\u001B[0m\u001B[0m\n\u001B[0;32m    429\u001B[0m             \u001B[1;32mif\u001B[0m \u001B[0misinstance\u001B[0m\u001B[1;33m(\u001B[0m\u001B[0mlibver\u001B[0m\u001B[1;33m,\u001B[0m \u001B[0mtuple\u001B[0m\u001B[1;33m)\u001B[0m\u001B[1;33m:\u001B[0m\u001B[1;33m\u001B[0m\u001B[1;33m\u001B[0m\u001B[0m\n",
      "\u001B[1;32mD:\\Test1\\trading-bot-master\\venv\\lib\\site-packages\\h5py\\_hl\\files.py\u001B[0m in \u001B[0;36mmake_fid\u001B[1;34m(name, mode, userblock_size, fapl, fcpl, swmr)\u001B[0m\n\u001B[0;32m    188\u001B[0m         \u001B[1;32mif\u001B[0m \u001B[0mswmr\u001B[0m \u001B[1;32mand\u001B[0m \u001B[0mswmr_support\u001B[0m\u001B[1;33m:\u001B[0m\u001B[1;33m\u001B[0m\u001B[1;33m\u001B[0m\u001B[0m\n\u001B[0;32m    189\u001B[0m             \u001B[0mflags\u001B[0m \u001B[1;33m|=\u001B[0m \u001B[0mh5f\u001B[0m\u001B[1;33m.\u001B[0m\u001B[0mACC_SWMR_READ\u001B[0m\u001B[1;33m\u001B[0m\u001B[1;33m\u001B[0m\u001B[0m\n\u001B[1;32m--> 190\u001B[1;33m         \u001B[0mfid\u001B[0m \u001B[1;33m=\u001B[0m \u001B[0mh5f\u001B[0m\u001B[1;33m.\u001B[0m\u001B[0mopen\u001B[0m\u001B[1;33m(\u001B[0m\u001B[0mname\u001B[0m\u001B[1;33m,\u001B[0m \u001B[0mflags\u001B[0m\u001B[1;33m,\u001B[0m \u001B[0mfapl\u001B[0m\u001B[1;33m=\u001B[0m\u001B[0mfapl\u001B[0m\u001B[1;33m)\u001B[0m\u001B[1;33m\u001B[0m\u001B[1;33m\u001B[0m\u001B[0m\n\u001B[0m\u001B[0;32m    191\u001B[0m     \u001B[1;32melif\u001B[0m \u001B[0mmode\u001B[0m \u001B[1;33m==\u001B[0m \u001B[1;34m'r+'\u001B[0m\u001B[1;33m:\u001B[0m\u001B[1;33m\u001B[0m\u001B[1;33m\u001B[0m\u001B[0m\n\u001B[0;32m    192\u001B[0m         \u001B[0mfid\u001B[0m \u001B[1;33m=\u001B[0m \u001B[0mh5f\u001B[0m\u001B[1;33m.\u001B[0m\u001B[0mopen\u001B[0m\u001B[1;33m(\u001B[0m\u001B[0mname\u001B[0m\u001B[1;33m,\u001B[0m \u001B[0mh5f\u001B[0m\u001B[1;33m.\u001B[0m\u001B[0mACC_RDWR\u001B[0m\u001B[1;33m,\u001B[0m \u001B[0mfapl\u001B[0m\u001B[1;33m=\u001B[0m\u001B[0mfapl\u001B[0m\u001B[1;33m)\u001B[0m\u001B[1;33m\u001B[0m\u001B[1;33m\u001B[0m\u001B[0m\n",
      "\u001B[1;32mh5py\\_objects.pyx\u001B[0m in \u001B[0;36mh5py._objects.with_phil.wrapper\u001B[1;34m()\u001B[0m\n",
      "\u001B[1;32mh5py\\_objects.pyx\u001B[0m in \u001B[0;36mh5py._objects.with_phil.wrapper\u001B[1;34m()\u001B[0m\n",
      "\u001B[1;32mh5py\\h5f.pyx\u001B[0m in \u001B[0;36mh5py.h5f.open\u001B[1;34m()\u001B[0m\n",
      "\u001B[1;31mOSError\u001B[0m: Unable to open file (file signature not found)"
     ]
    }
   ],
   "source": [
    "from trading_bot.agent import Agent\n",
    "\n",
    "model_name = 'model_vic_dqn_50'\n",
    "test_stock = 'data/VIC2024.csv'\n",
    "window_size = 10\n",
    "debug = True\n",
    "\n",
    "agent = Agent(window_size, pretrained=True, model_name=model_name)"
   ],
   "metadata": {
    "ExecuteTime": {
     "end_time": "2024-03-19T14:16:12.357319Z",
     "start_time": "2024-03-19T14:16:09.756765Z"
    }
   },
   "execution_count": 2
  },
  {
   "cell_type": "markdown",
   "metadata": {},
   "source": [
    "### 2. Load test data"
   ]
  },
  {
   "cell_type": "code",
   "execution_count": 10,
   "metadata": {
    "ExecuteTime": {
     "end_time": "2024-03-18T01:50:17.063967Z",
     "start_time": "2024-03-18T01:50:17.031288Z"
    }
   },
   "outputs": [
    {
     "data": {
      "text/plain": "        date actual\n0 2023-01-03  56800\n1 2023-01-04  56000\n2 2023-01-05  56200\n3 2023-01-06  56100\n4 2023-01-09  55000",
      "text/html": "<div>\n<style scoped>\n    .dataframe tbody tr th:only-of-type {\n        vertical-align: middle;\n    }\n\n    .dataframe tbody tr th {\n        vertical-align: top;\n    }\n\n    .dataframe thead th {\n        text-align: right;\n    }\n</style>\n<table border=\"1\" class=\"dataframe\">\n  <thead>\n    <tr style=\"text-align: right;\">\n      <th></th>\n      <th>date</th>\n      <th>actual</th>\n    </tr>\n  </thead>\n  <tbody>\n    <tr>\n      <th>0</th>\n      <td>2023-01-03</td>\n      <td>56800</td>\n    </tr>\n    <tr>\n      <th>1</th>\n      <td>2023-01-04</td>\n      <td>56000</td>\n    </tr>\n    <tr>\n      <th>2</th>\n      <td>2023-01-05</td>\n      <td>56200</td>\n    </tr>\n    <tr>\n      <th>3</th>\n      <td>2023-01-06</td>\n      <td>56100</td>\n    </tr>\n    <tr>\n      <th>4</th>\n      <td>2023-01-09</td>\n      <td>55000</td>\n    </tr>\n  </tbody>\n</table>\n</div>"
     },
     "execution_count": 10,
     "metadata": {},
     "output_type": "execute_result"
    }
   ],
   "source": [
    "# read csv into dataframe\n",
    "df = pd.read_csv(test_stock)\n",
    "# filter out the desired features\n",
    "df = df[['Date', 'Price']]\n",
    "# rename feature column names\n",
    "df = df.rename(columns={'Price': 'actual', 'Date': 'date'})\n",
    "# convert dates from object to DateTime type\n",
    "dates = df['date']\n",
    "dates = pd.to_datetime(dates, infer_datetime_format=True)\n",
    "df['date'] = dates\n",
    "\n",
    "df.head()"
   ]
  },
  {
   "cell_type": "markdown",
   "metadata": {},
   "source": [
    "### 3. Running Eval"
   ]
  },
  {
   "cell_type": "code",
   "execution_count": 11,
   "metadata": {
    "ExecuteTime": {
     "end_time": "2024-03-18T01:50:56.299690Z",
     "start_time": "2024-03-18T01:50:54.909695Z"
    }
   },
   "outputs": [
    {
     "name": "stderr",
     "output_type": "stream",
     "text": [
      "2024-03-18 08:50:54 DESKTOP-RSIH8GO root[4808] DEBUG switching to TensorFlow for CPU\n",
      "2024-03-18 08:50:54 DESKTOP-RSIH8GO root[4808] DEBUG Buy at: 56800.00VND\n",
      "2024-03-18 08:50:55 DESKTOP-RSIH8GO root[4808] DEBUG Sell at: 56200.00VND | Position: -600.00VND\n",
      "2024-03-18 08:50:55 DESKTOP-RSIH8GO root[4808] DEBUG Buy at: 54500.00VND\n",
      "2024-03-18 08:50:55 DESKTOP-RSIH8GO root[4808] DEBUG Sell at: 55000.00VND | Position: +500.00VND\n",
      "2024-03-18 08:50:55 DESKTOP-RSIH8GO root[4808] DEBUG Buy at: 52700.00VND\n",
      "2024-03-18 08:50:55 DESKTOP-RSIH8GO root[4808] DEBUG Buy at: 53300.00VND\n",
      "2024-03-18 08:50:55 DESKTOP-RSIH8GO root[4808] DEBUG Buy at: 52800.00VND\n",
      "2024-03-18 08:50:55 DESKTOP-RSIH8GO root[4808] DEBUG Buy at: 54500.00VND\n",
      "2024-03-18 08:50:55 DESKTOP-RSIH8GO root[4808] DEBUG Buy at: 51900.00VND\n",
      "2024-03-18 08:50:55 DESKTOP-RSIH8GO root[4808] DEBUG Buy at: 52400.00VND\n",
      "2024-03-18 08:50:55 DESKTOP-RSIH8GO root[4808] DEBUG Buy at: 53500.00VND\n",
      "2024-03-18 08:50:55 DESKTOP-RSIH8GO root[4808] DEBUG Buy at: 50100.00VND\n",
      "2024-03-18 08:50:55 DESKTOP-RSIH8GO root[4808] DEBUG Sell at: 51400.00VND | Position: -1300.00VND\n",
      "2024-03-18 08:50:55 DESKTOP-RSIH8GO root[4808] DEBUG Buy at: 52000.00VND\n",
      "2024-03-18 08:50:55 DESKTOP-RSIH8GO root[4808] DEBUG Buy at: 51500.00VND\n",
      "2024-03-18 08:50:55 DESKTOP-RSIH8GO root[4808] DEBUG Buy at: 58200.00VND\n",
      "2024-03-18 08:50:55 DESKTOP-RSIH8GO root[4808] DEBUG Sell at: 63900.00VND | Position: +10600.00VND\n",
      "2024-03-18 08:50:55 DESKTOP-RSIH8GO root[4808] DEBUG Sell at: 67000.00VND | Position: +14200.00VND\n",
      "2024-03-18 08:50:55 DESKTOP-RSIH8GO root[4808] DEBUG Buy at: 64200.00VND\n",
      "2024-03-18 08:50:55 DESKTOP-RSIH8GO root[4808] DEBUG Buy at: 53600.00VND\n",
      "2024-03-18 08:50:55 DESKTOP-RSIH8GO root[4808] DEBUG Buy at: 45200.00VND\n",
      "2024-03-18 08:50:55 DESKTOP-RSIH8GO root[4808] DEBUG Buy at: 45400.00VND\n",
      "2024-03-18 08:50:55 DESKTOP-RSIH8GO root[4808] DEBUG Buy at: 42700.00VND\n",
      "2024-03-18 08:50:55 DESKTOP-RSIH8GO root[4808] DEBUG Buy at: 44150.00VND\n",
      "2024-03-18 08:50:55 DESKTOP-RSIH8GO root[4808] DEBUG Buy at: 43650.00VND\n",
      "2024-03-18 08:50:55 DESKTOP-RSIH8GO root[4808] DEBUG Buy at: 43150.00VND\n",
      "2024-03-18 08:50:55 DESKTOP-RSIH8GO root[4808] DEBUG Sell at: 42800.00VND | Position: -11700.00VND\n",
      "2024-03-18 08:50:55 DESKTOP-RSIH8GO root[4808] DEBUG Buy at: 42300.00VND\n",
      "2024-03-18 08:50:55 DESKTOP-RSIH8GO root[4808] DEBUG Sell at: 43950.00VND | Position: -7950.00VND\n",
      "2024-03-18 08:50:56 DESKTOP-RSIH8GO root[4808] DEBUG Sell at: 47000.00VND | Position: -5400.00VND\n",
      "2024-03-18 08:50:56 DESKTOP-RSIH8GO root[4808] DEBUG Sell at: 47600.00VND | Position: -5900.00VND\n",
      "2024-03-18 08:50:56 DESKTOP-RSIH8GO root[4808] DEBUG Sell at: 45450.00VND | Position: -4650.00VND\n",
      "2024-03-18 08:50:56 DESKTOP-RSIH8GO root[4808] DEBUG Sell at: 44600.00VND | Position: -7400.00VND\n",
      "2024-03-18 08:50:56 DESKTOP-RSIH8GO root[4808] DEBUG Sell at: 45600.00VND | Position: -5900.00VND\n",
      "2024-03-18 08:50:56 DESKTOP-RSIH8GO root[4808] DEBUG Sell at: 45000.00VND | Position: -13200.00VND\n",
      "2024-03-18 08:50:56 DESKTOP-RSIH8GO root[4808] DEBUG Sell at: 45250.00VND | Position: -18950.00VND\n",
      "2024-03-18 08:50:56 DESKTOP-RSIH8GO root[4808] DEBUG Sell at: 45250.00VND | Position: -8350.00VND\n",
      "2024-03-18 08:50:56 DESKTOP-RSIH8GO root[4808] DEBUG Sell at: 45300.00VND | Position: +100.00VND\n",
      "2024-03-18 08:50:56 DESKTOP-RSIH8GO root[4808] DEBUG Sell at: 45600.00VND | Position: +200.00VND\n",
      "2024-03-18 08:50:56 DESKTOP-RSIH8GO root[4808] DEBUG Buy at: 45600.00VND\n",
      "2024-03-18 08:50:56 DESKTOP-RSIH8GO root[4808] INFO mode_vic_tdqn_50: -65700.00VND\n",
      "\n"
     ]
    }
   ],
   "source": [
    "import logging\n",
    "import coloredlogs\n",
    "\n",
    "from trading_bot.utils import show_eval_result, switch_k_backend_device, get_stock_data\n",
    "from trading_bot.methods import evaluate_model\n",
    "\n",
    "# Set logging level to DEBUG\n",
    "logging.basicConfig(level=logging.DEBUG)\n",
    "\n",
    "coloredlogs.install(level='DEBUG')\n",
    "switch_k_backend_device()\n",
    "\n",
    "test_data = get_stock_data(test_stock)\n",
    "initial_offset = test_data[1] - test_data[0]\n",
    "test_result, history = evaluate_model(agent, test_data, window_size, debug)\n",
    "show_eval_result(model_name, test_result, initial_offset)\n"
   ]
  },
  {
   "cell_type": "code",
   "outputs": [
    {
     "data": {
      "text/plain": "[(56800, 'BUY'),\n (56000, 'HOLD'),\n (56200, 'SELL'),\n (56100, 'HOLD'),\n (55000, 'HOLD'),\n (54500, 'BUY'),\n (55100, 'HOLD'),\n (55000, 'SELL'),\n (55000, 'HOLD'),\n (54800, 'HOLD'),\n (55200, 'HOLD'),\n (56700, 'HOLD'),\n (57400, 'HOLD'),\n (59200, 'HOLD'),\n (57700, 'HOLD'),\n (57100, 'HOLD'),\n (55200, 'HOLD'),\n (55800, 'HOLD'),\n (56000, 'HOLD'),\n (56000, 'HOLD'),\n (55000, 'HOLD'),\n (54400, 'HOLD'),\n (54200, 'HOLD'),\n (54000, 'HOLD'),\n (53400, 'HOLD'),\n (52900, 'HOLD'),\n (52900, 'HOLD'),\n (53400, 'HOLD'),\n (53500, 'HOLD'),\n (54100, 'HOLD'),\n (54300, 'HOLD'),\n (53000, 'HOLD'),\n (53000, 'HOLD'),\n (52900, 'HOLD'),\n (52500, 'HOLD'),\n (52600, 'HOLD'),\n (52700, 'HOLD'),\n (52800, 'HOLD'),\n (52700, 'HOLD'),\n (52600, 'HOLD'),\n (52700, 'BUY'),\n (53000, 'HOLD'),\n (53000, 'HOLD'),\n (53100, 'HOLD'),\n (53300, 'HOLD'),\n (53000, 'HOLD'),\n (54000, 'HOLD'),\n (53300, 'BUY'),\n (53200, 'HOLD'),\n (52800, 'BUY'),\n (52800, 'HOLD'),\n (52800, 'HOLD'),\n (52800, 'HOLD'),\n (53300, 'HOLD'),\n (53300, 'HOLD'),\n (53400, 'HOLD'),\n (53500, 'HOLD'),\n (53700, 'HOLD'),\n (55000, 'HOLD'),\n (58000, 'HOLD'),\n (56800, 'HOLD'),\n (55500, 'HOLD'),\n (54500, 'BUY'),\n (54400, 'HOLD'),\n (53800, 'HOLD'),\n (53600, 'HOLD'),\n (53100, 'HOLD'),\n (53000, 'HOLD'),\n (52900, 'HOLD'),\n (52900, 'HOLD'),\n (52800, 'HOLD'),\n (52600, 'HOLD'),\n (52600, 'HOLD'),\n (52700, 'HOLD'),\n (52600, 'HOLD'),\n (52500, 'HOLD'),\n (51900, 'BUY'),\n (50500, 'HOLD'),\n (52100, 'HOLD'),\n (51300, 'HOLD'),\n (50700, 'HOLD'),\n (50900, 'HOLD'),\n (50600, 'HOLD'),\n (50600, 'HOLD'),\n (50500, 'HOLD'),\n (51700, 'HOLD'),\n (54400, 'HOLD'),\n (52900, 'HOLD'),\n (53200, 'HOLD'),\n (53200, 'HOLD'),\n (52500, 'HOLD'),\n (52100, 'HOLD'),\n (52600, 'HOLD'),\n (52600, 'HOLD'),\n (52600, 'HOLD'),\n (52000, 'HOLD'),\n (52700, 'HOLD'),\n (52400, 'BUY'),\n (52000, 'HOLD'),\n (52000, 'HOLD'),\n (52000, 'HOLD'),\n (52100, 'HOLD'),\n (53200, 'HOLD'),\n (52800, 'HOLD'),\n (52400, 'HOLD'),\n (52300, 'HOLD'),\n (53400, 'HOLD'),\n (54100, 'HOLD'),\n (53800, 'HOLD'),\n (53500, 'HOLD'),\n (53500, 'BUY'),\n (52100, 'HOLD'),\n (52000, 'HOLD'),\n (52400, 'HOLD'),\n (52400, 'HOLD'),\n (52000, 'HOLD'),\n (52200, 'HOLD'),\n (52400, 'HOLD'),\n (52200, 'HOLD'),\n (51800, 'HOLD'),\n (51000, 'HOLD'),\n (51100, 'HOLD'),\n (51300, 'HOLD'),\n (51000, 'HOLD'),\n (50400, 'HOLD'),\n (50100, 'BUY'),\n (50900, 'HOLD'),\n (50800, 'HOLD'),\n (51400, 'HOLD'),\n (51500, 'HOLD'),\n (51400, 'SELL'),\n (52900, 'HOLD'),\n (52700, 'HOLD'),\n (52100, 'HOLD'),\n (52000, 'BUY'),\n (52100, 'HOLD'),\n (52000, 'HOLD'),\n (51500, 'HOLD'),\n (51000, 'HOLD'),\n (51100, 'HOLD'),\n (51500, 'BUY'),\n (55100, 'HOLD'),\n (58900, 'HOLD'),\n (58300, 'HOLD'),\n (58200, 'BUY'),\n (62200, 'HOLD'),\n (63900, 'SELL'),\n (67000, 'SELL'),\n (65800, 'HOLD'),\n (67900, 'HOLD'),\n (72600, 'HOLD'),\n (73300, 'HOLD'),\n (70700, 'HOLD'),\n (75600, 'HOLD'),\n (71900, 'HOLD'),\n (66900, 'HOLD'),\n (65800, 'HOLD'),\n (64500, 'HOLD'),\n (65000, 'HOLD'),\n (64200, 'BUY'),\n (63500, 'HOLD'),\n (64700, 'HOLD'),\n (63400, 'HOLD'),\n (62000, 'HOLD'),\n (62100, 'HOLD'),\n (62300, 'HOLD'),\n (61600, 'HOLD'),\n (60800, 'HOLD'),\n (59100, 'HOLD'),\n (59100, 'HOLD'),\n (60300, 'HOLD'),\n (59200, 'HOLD'),\n (55500, 'HOLD'),\n (53600, 'BUY'),\n (53000, 'HOLD'),\n (51700, 'HOLD'),\n (53500, 'HOLD'),\n (52200, 'HOLD'),\n (50000, 'HOLD'),\n (46500, 'HOLD'),\n (45000, 'HOLD'),\n (45200, 'BUY'),\n (45000, 'HOLD'),\n (46850, 'HOLD'),\n (46900, 'HOLD'),\n (44500, 'HOLD'),\n (46100, 'HOLD'),\n (45600, 'HOLD'),\n (45950, 'HOLD'),\n (45200, 'HOLD'),\n (44900, 'HOLD'),\n (45450, 'HOLD'),\n (46500, 'HOLD'),\n (46100, 'HOLD'),\n (45000, 'HOLD'),\n (44000, 'HOLD'),\n (43800, 'HOLD'),\n (43200, 'HOLD'),\n (43350, 'HOLD'),\n (43400, 'HOLD'),\n (43450, 'HOLD'),\n (44700, 'HOLD'),\n (41600, 'HOLD'),\n (41600, 'HOLD'),\n (41500, 'HOLD'),\n (40500, 'HOLD'),\n (40400, 'HOLD'),\n (41450, 'HOLD'),\n (41600, 'HOLD'),\n (42100, 'HOLD'),\n (42050, 'HOLD'),\n (43000, 'HOLD'),\n (45400, 'BUY'),\n (44950, 'HOLD'),\n (44800, 'HOLD'),\n (44950, 'HOLD'),\n (45400, 'HOLD'),\n (45100, 'HOLD'),\n (42200, 'HOLD'),\n (42700, 'BUY'),\n (42600, 'HOLD'),\n (42000, 'HOLD'),\n (41300, 'HOLD'),\n (41350, 'HOLD'),\n (41850, 'HOLD'),\n (42400, 'HOLD'),\n (42550, 'HOLD'),\n (41750, 'HOLD'),\n (42100, 'HOLD'),\n (42950, 'HOLD'),\n (42800, 'HOLD'),\n (42800, 'HOLD'),\n (42800, 'HOLD'),\n (42950, 'HOLD'),\n (44050, 'HOLD'),\n (44250, 'HOLD'),\n (43900, 'HOLD'),\n (43800, 'HOLD'),\n (43700, 'HOLD'),\n (43200, 'HOLD'),\n (43200, 'HOLD'),\n (43250, 'HOLD'),\n (43200, 'HOLD'),\n (43150, 'HOLD'),\n (43400, 'HOLD'),\n (43550, 'HOLD'),\n (43600, 'HOLD'),\n (44450, 'HOLD'),\n (44600, 'HOLD'),\n (44000, 'HOLD'),\n (44150, 'HOLD'),\n (44150, 'BUY'),\n (44100, 'HOLD'),\n (44350, 'HOLD'),\n (43900, 'HOLD'),\n (43600, 'HOLD'),\n (43650, 'BUY'),\n (43000, 'HOLD'),\n (43050, 'HOLD'),\n (43150, 'BUY'),\n (43200, 'HOLD'),\n (43350, 'HOLD'),\n (43300, 'HOLD'),\n (43300, 'HOLD'),\n (43100, 'HOLD'),\n (43150, 'HOLD'),\n (42800, 'HOLD'),\n (42800, 'SELL'),\n (42650, 'HOLD'),\n (42700, 'HOLD'),\n (42500, 'HOLD'),\n (42350, 'HOLD'),\n (42100, 'HOLD'),\n (42200, 'HOLD'),\n (42300, 'BUY'),\n (42400, 'HOLD'),\n (42550, 'HOLD'),\n (43950, 'SELL'),\n (47000, 'SELL'),\n (48500, 'HOLD'),\n (47250, 'HOLD'),\n (47600, 'SELL'),\n (45450, 'SELL'),\n (44600, 'SELL'),\n (45150, 'HOLD'),\n (45600, 'SELL'),\n (45000, 'SELL'),\n (45250, 'SELL'),\n (45250, 'SELL'),\n (45300, 'SELL'),\n (45600, 'SELL'),\n (45600, 'BUY'),\n (44800, 'HOLD'),\n (44350, 'HOLD'),\n (44150, 'HOLD'),\n (45000, 'HOLD'),\n (45950, 'HOLD')]"
     },
     "execution_count": 12,
     "metadata": {},
     "output_type": "execute_result"
    }
   ],
   "source": [
    "history"
   ],
   "metadata": {
    "collapsed": false,
    "ExecuteTime": {
     "end_time": "2024-03-18T01:52:20.656355Z",
     "start_time": "2024-03-18T01:52:20.620360Z"
    }
   },
   "execution_count": 12
  },
  {
   "cell_type": "markdown",
   "metadata": {},
   "source": [
    "### 4. Visualize"
   ]
  },
  {
   "cell_type": "code",
   "execution_count": 15,
   "metadata": {
    "ExecuteTime": {
     "end_time": "2024-03-18T01:54:03.324018Z",
     "start_time": "2024-03-18T01:54:03.300784Z"
    }
   },
   "outputs": [],
   "source": [
    "def visualize(df, history, title=\"trading session\"):\n",
    "    # add history to dataframe\n",
    "    position = [history[0][0]] + [x[0] for x in history]\n",
    "    actions = ['HOLD'] + [x[1] for x in history]\n",
    "    df['position'] = position\n",
    "    df['action'] = actions\n",
    "    \n",
    "    # specify y-axis scale for stock prices\n",
    "    scale = alt.Scale(domain=(min(min(df['actual']), min(df['position'])) - 50, max(max(df['actual']), max(df['position'])) + 50), clamp=True)\n",
    "    \n",
    "    # plot a line chart for stock positions\n",
    "    actual = alt.Chart(df).mark_line(\n",
    "        color='green',\n",
    "        opacity=0.5\n",
    "    ).encode(\n",
    "        x='date:T',\n",
    "        y=alt.Y('position', axis=alt.Axis(format='.2f', title='Price'), scale=scale)\n",
    "    ).interactive(\n",
    "        bind_y=False\n",
    "    )\n",
    "    \n",
    "    # plot the BUY and SELL actions as points\n",
    "    points = alt.Chart(df).transform_filter(\n",
    "        alt.datum.action != 'HOLD'\n",
    "    ).mark_point(\n",
    "        filled=True\n",
    "    ).encode(\n",
    "        x=alt.X('date:T', axis=alt.Axis(title='Date')),\n",
    "        y=alt.Y('position', axis=alt.Axis(format='.2f', title='Price (VND'), scale=scale),\n",
    "        color='action'\n",
    "    ).interactive(bind_y=False)\n",
    "\n",
    "    # merge the two charts\n",
    "    chart = alt.layer(actual, points, title=title).properties(height=300, width=1000)\n",
    "    \n",
    "    return chart"
   ]
  },
  {
   "cell_type": "code",
   "outputs": [
    {
     "ename": "TypeError",
     "evalue": "'<' not supported between instances of 'int' and 'str'",
     "output_type": "error",
     "traceback": [
      "\u001B[1;31m---------------------------------------------------------------------------\u001B[0m",
      "\u001B[1;31mTypeError\u001B[0m                                 Traceback (most recent call last)",
      "\u001B[1;32m<ipython-input-16-f3b6871e5b5f>\u001B[0m in \u001B[0;36m<module>\u001B[1;34m\u001B[0m\n\u001B[1;32m----> 1\u001B[1;33m \u001B[0mchart\u001B[0m \u001B[1;33m=\u001B[0m \u001B[0mvisualize\u001B[0m\u001B[1;33m(\u001B[0m\u001B[0mdf\u001B[0m\u001B[1;33m,\u001B[0m \u001B[0mhistory\u001B[0m\u001B[1;33m,\u001B[0m \u001B[0mtitle\u001B[0m\u001B[1;33m=\u001B[0m\u001B[0mtest_stock\u001B[0m\u001B[1;33m)\u001B[0m\u001B[1;33m\u001B[0m\u001B[1;33m\u001B[0m\u001B[0m\n\u001B[0m\u001B[0;32m      2\u001B[0m \u001B[0mchart\u001B[0m\u001B[1;33m\u001B[0m\u001B[1;33m\u001B[0m\u001B[0m\n",
      "\u001B[1;32m<ipython-input-15-98ad343cd726>\u001B[0m in \u001B[0;36mvisualize\u001B[1;34m(df, history, title)\u001B[0m\n\u001B[0;32m      7\u001B[0m \u001B[1;33m\u001B[0m\u001B[0m\n\u001B[0;32m      8\u001B[0m     \u001B[1;31m# specify y-axis scale for stock prices\u001B[0m\u001B[1;33m\u001B[0m\u001B[1;33m\u001B[0m\u001B[1;33m\u001B[0m\u001B[0m\n\u001B[1;32m----> 9\u001B[1;33m     \u001B[0mscale\u001B[0m \u001B[1;33m=\u001B[0m \u001B[0malt\u001B[0m\u001B[1;33m.\u001B[0m\u001B[0mScale\u001B[0m\u001B[1;33m(\u001B[0m\u001B[0mdomain\u001B[0m\u001B[1;33m=\u001B[0m\u001B[1;33m(\u001B[0m\u001B[0mmin\u001B[0m\u001B[1;33m(\u001B[0m\u001B[0mmin\u001B[0m\u001B[1;33m(\u001B[0m\u001B[0mdf\u001B[0m\u001B[1;33m[\u001B[0m\u001B[1;34m'actual'\u001B[0m\u001B[1;33m]\u001B[0m\u001B[1;33m)\u001B[0m\u001B[1;33m,\u001B[0m \u001B[0mmin\u001B[0m\u001B[1;33m(\u001B[0m\u001B[0mdf\u001B[0m\u001B[1;33m[\u001B[0m\u001B[1;34m'position'\u001B[0m\u001B[1;33m]\u001B[0m\u001B[1;33m)\u001B[0m\u001B[1;33m)\u001B[0m \u001B[1;33m-\u001B[0m \u001B[1;36m50\u001B[0m\u001B[1;33m,\u001B[0m \u001B[0mmax\u001B[0m\u001B[1;33m(\u001B[0m\u001B[0mmax\u001B[0m\u001B[1;33m(\u001B[0m\u001B[0mdf\u001B[0m\u001B[1;33m[\u001B[0m\u001B[1;34m'actual'\u001B[0m\u001B[1;33m]\u001B[0m\u001B[1;33m)\u001B[0m\u001B[1;33m,\u001B[0m \u001B[0mmax\u001B[0m\u001B[1;33m(\u001B[0m\u001B[0mdf\u001B[0m\u001B[1;33m[\u001B[0m\u001B[1;34m'position'\u001B[0m\u001B[1;33m]\u001B[0m\u001B[1;33m)\u001B[0m\u001B[1;33m)\u001B[0m \u001B[1;33m+\u001B[0m \u001B[1;36m50\u001B[0m\u001B[1;33m)\u001B[0m\u001B[1;33m,\u001B[0m \u001B[0mclamp\u001B[0m\u001B[1;33m=\u001B[0m\u001B[1;32mTrue\u001B[0m\u001B[1;33m)\u001B[0m\u001B[1;33m\u001B[0m\u001B[1;33m\u001B[0m\u001B[0m\n\u001B[0m\u001B[0;32m     10\u001B[0m \u001B[1;33m\u001B[0m\u001B[0m\n\u001B[0;32m     11\u001B[0m     \u001B[1;31m# plot a line chart for stock positions\u001B[0m\u001B[1;33m\u001B[0m\u001B[1;33m\u001B[0m\u001B[1;33m\u001B[0m\u001B[0m\n",
      "\u001B[1;31mTypeError\u001B[0m: '<' not supported between instances of 'int' and 'str'"
     ]
    }
   ],
   "source": [
    "chart = visualize(df, history, title=test_stock)\n",
    "chart"
   ],
   "metadata": {
    "collapsed": false,
    "ExecuteTime": {
     "end_time": "2024-03-18T01:54:12.987273Z",
     "start_time": "2024-03-18T01:54:12.939440Z"
    }
   },
   "execution_count": 16
  },
  {
   "cell_type": "code",
   "outputs": [
    {
     "data": {
      "text/plain": "        date actual  position action\n0 2023-01-03  56800     56800   HOLD\n1 2023-01-04  56000     56800    BUY\n2 2023-01-05  56200     56000   HOLD\n3 2023-01-06  56100     56200   SELL\n4 2023-01-09  55000     56100   HOLD",
      "text/html": "<div>\n<style scoped>\n    .dataframe tbody tr th:only-of-type {\n        vertical-align: middle;\n    }\n\n    .dataframe tbody tr th {\n        vertical-align: top;\n    }\n\n    .dataframe thead th {\n        text-align: right;\n    }\n</style>\n<table border=\"1\" class=\"dataframe\">\n  <thead>\n    <tr style=\"text-align: right;\">\n      <th></th>\n      <th>date</th>\n      <th>actual</th>\n      <th>position</th>\n      <th>action</th>\n    </tr>\n  </thead>\n  <tbody>\n    <tr>\n      <th>0</th>\n      <td>2023-01-03</td>\n      <td>56800</td>\n      <td>56800</td>\n      <td>HOLD</td>\n    </tr>\n    <tr>\n      <th>1</th>\n      <td>2023-01-04</td>\n      <td>56000</td>\n      <td>56800</td>\n      <td>BUY</td>\n    </tr>\n    <tr>\n      <th>2</th>\n      <td>2023-01-05</td>\n      <td>56200</td>\n      <td>56000</td>\n      <td>HOLD</td>\n    </tr>\n    <tr>\n      <th>3</th>\n      <td>2023-01-06</td>\n      <td>56100</td>\n      <td>56200</td>\n      <td>SELL</td>\n    </tr>\n    <tr>\n      <th>4</th>\n      <td>2023-01-09</td>\n      <td>55000</td>\n      <td>56100</td>\n      <td>HOLD</td>\n    </tr>\n  </tbody>\n</table>\n</div>"
     },
     "execution_count": 17,
     "metadata": {},
     "output_type": "execute_result"
    }
   ],
   "source": [
    "df.head()"
   ],
   "metadata": {
    "collapsed": false,
    "ExecuteTime": {
     "end_time": "2024-03-18T01:54:27.571597Z",
     "start_time": "2024-03-18T01:54:27.545569Z"
    }
   },
   "execution_count": 17
  },
  {
   "cell_type": "code",
   "outputs": [],
   "source": [
    "import pandas as pd\n",
    "import os\n",
    "\n",
    "# Đường dẫn đến thư mục\n",
    "directory = r'D:\\Test1\\trading-bot-master\\extra'\n",
    "\n",
    "# Đảm bảo rằng đường dẫn tồn tại\n",
    "if not os.path.exists(directory):\n",
    "    os.makedirs(directory)\n",
    "\n",
    "# Lưu DataFrame thành file CSV\n",
    "df.to_csv(os.path.join(directory, f'{model_name}_result.csv'), index=False)\n"
   ],
   "metadata": {
    "collapsed": false,
    "ExecuteTime": {
     "end_time": "2024-03-18T01:54:56.933034Z",
     "start_time": "2024-03-18T01:54:56.900463Z"
    }
   },
   "execution_count": 18
  },
  {
   "cell_type": "code",
   "outputs": [],
   "source": [],
   "metadata": {
    "collapsed": false
   }
  }
 ],
 "metadata": {
  "kernelspec": {
   "display_name": "Python 3",
   "language": "python",
   "name": "python3"
  },
  "language_info": {
   "codemirror_mode": {
    "name": "ipython",
    "version": 3
   },
   "file_extension": ".py",
   "mimetype": "text/x-python",
   "name": "python",
   "nbconvert_exporter": "python",
   "pygments_lexer": "ipython3",
   "version": "3.6.8"
  }
 },
 "nbformat": 4,
 "nbformat_minor": 4
}
