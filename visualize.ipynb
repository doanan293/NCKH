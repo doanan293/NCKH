{
 "cells": [
  {
   "cell_type": "markdown",
   "metadata": {},
   "source": [
    "# Visualization: Trading Session"
   ]
  },
  {
   "cell_type": "code",
   "execution_count": 7,
   "metadata": {
    "ExecuteTime": {
     "end_time": "2024-03-15T06:41:18.990119Z",
     "start_time": "2024-03-15T06:41:18.984016Z"
    }
   },
   "outputs": [],
   "source": [
    "import pandas as pd\n",
    "import numpy as np\n",
    "\n",
    "import altair as alt\n",
    "import seaborn as sns"
   ]
  },
  {
   "cell_type": "markdown",
   "metadata": {},
   "source": [
    "### 1. Define parameters and Load model"
   ]
  },
  {
   "cell_type": "code",
   "execution_count": 8,
   "metadata": {
    "ExecuteTime": {
     "end_time": "2024-03-15T06:41:25.149110Z",
     "start_time": "2024-03-15T06:41:19.958030Z"
    }
   },
   "outputs": [],
   "source": [
    "from trading_bot.agent import Agent\n",
    "\n",
    "model_name = 'cut_50'\n",
    "test_stock = 'data/2019cut.csv'\n",
    "window_size = 10\n",
    "debug = True\n",
    "\n",
    "agent = Agent(window_size, pretrained=True, model_name=model_name)"
   ]
  },
  {
   "cell_type": "markdown",
   "metadata": {},
   "source": [
    "### 2. Load test data"
   ]
  },
  {
   "cell_type": "code",
   "execution_count": 9,
   "metadata": {
    "ExecuteTime": {
     "end_time": "2024-03-15T06:41:25.224017Z",
     "start_time": "2024-03-15T06:41:25.156001Z"
    }
   },
   "outputs": [
    {
     "data": {
      "text/plain": "        date       actual\n0 2019-01-02  1045.849976\n1 2019-01-03  1016.059998\n2 2019-01-04  1070.709961\n3 2019-01-07  1068.390015\n4 2019-01-08  1076.280029",
      "text/html": "<div>\n<style scoped>\n    .dataframe tbody tr th:only-of-type {\n        vertical-align: middle;\n    }\n\n    .dataframe tbody tr th {\n        vertical-align: top;\n    }\n\n    .dataframe thead th {\n        text-align: right;\n    }\n</style>\n<table border=\"1\" class=\"dataframe\">\n  <thead>\n    <tr style=\"text-align: right;\">\n      <th></th>\n      <th>date</th>\n      <th>actual</th>\n    </tr>\n  </thead>\n  <tbody>\n    <tr>\n      <th>0</th>\n      <td>2019-01-02</td>\n      <td>1045.849976</td>\n    </tr>\n    <tr>\n      <th>1</th>\n      <td>2019-01-03</td>\n      <td>1016.059998</td>\n    </tr>\n    <tr>\n      <th>2</th>\n      <td>2019-01-04</td>\n      <td>1070.709961</td>\n    </tr>\n    <tr>\n      <th>3</th>\n      <td>2019-01-07</td>\n      <td>1068.390015</td>\n    </tr>\n    <tr>\n      <th>4</th>\n      <td>2019-01-08</td>\n      <td>1076.280029</td>\n    </tr>\n  </tbody>\n</table>\n</div>"
     },
     "execution_count": 9,
     "metadata": {},
     "output_type": "execute_result"
    }
   ],
   "source": [
    "# read csv into dataframe\n",
    "df = pd.read_csv(test_stock)\n",
    "# filter out the desired features\n",
    "df = df[['Date', 'Adj Close']]\n",
    "# rename feature column names\n",
    "df = df.rename(columns={'Adj Close': 'actual', 'Date': 'date'})\n",
    "# convert dates from object to DateTime type\n",
    "dates = df['date']\n",
    "dates = pd.to_datetime(dates, infer_datetime_format=True)\n",
    "df['date'] = dates\n",
    "\n",
    "df.head()"
   ]
  },
  {
   "cell_type": "markdown",
   "metadata": {},
   "source": [
    "### 3. Running Eval"
   ]
  },
  {
   "cell_type": "code",
   "execution_count": 10,
   "metadata": {
    "ExecuteTime": {
     "end_time": "2024-03-15T06:41:32.995294Z",
     "start_time": "2024-03-15T06:41:31.872022Z"
    }
   },
   "outputs": [
    {
     "name": "stderr",
     "output_type": "stream",
     "text": [
      "2024-03-15 13:41:31 DESKTOP-RSIH8GO root[13976] DEBUG switching to TensorFlow for CPU\n",
      "2024-03-15 13:41:31 DESKTOP-RSIH8GO root[13976] DEBUG Buy at: 1045.85VND\n",
      "2024-03-15 13:41:32 DESKTOP-RSIH8GO root[13976] DEBUG Sell at: 1016.06VND | Position: -29.79VND\n",
      "2024-03-15 13:41:32 DESKTOP-RSIH8GO root[13976] DEBUG Buy at: 1070.33VND\n",
      "2024-03-15 13:41:32 DESKTOP-RSIH8GO root[13976] DEBUG Buy at: 1057.19VND\n",
      "2024-03-15 13:41:32 DESKTOP-RSIH8GO root[13976] DEBUG Buy at: 1044.69VND\n",
      "2024-03-15 13:41:32 DESKTOP-RSIH8GO root[13976] DEBUG Sell at: 1098.26VND | Position: +27.93VND\n",
      "2024-03-15 13:41:32 DESKTOP-RSIH8GO root[13976] DEBUG Sell at: 1075.57VND | Position: +18.38VND\n",
      "2024-03-15 13:41:32 DESKTOP-RSIH8GO root[13976] DEBUG Sell at: 1073.90VND | Position: +29.21VND\n",
      "2024-03-15 13:41:32 DESKTOP-RSIH8GO root[13976] DEBUG Buy at: 1060.62VND\n",
      "2024-03-15 13:41:32 DESKTOP-RSIH8GO root[13976] INFO cut_50: +45.73VND\n",
      "\n"
     ]
    }
   ],
   "source": [
    "import logging\n",
    "import coloredlogs\n",
    "\n",
    "from trading_bot.utils import show_eval_result, switch_k_backend_device, get_stock_data\n",
    "from trading_bot.methods import evaluate_model\n",
    "\n",
    "# Set logging level to DEBUG\n",
    "logging.basicConfig(level=logging.DEBUG)\n",
    "\n",
    "coloredlogs.install(level='DEBUG')\n",
    "switch_k_backend_device()\n",
    "\n",
    "test_data = get_stock_data(test_stock)\n",
    "initial_offset = test_data[1] - test_data[0]\n",
    "test_result, history = evaluate_model(agent, test_data, window_size, debug)\n",
    "show_eval_result(model_name, test_result, initial_offset)\n"
   ]
  },
  {
   "cell_type": "code",
   "outputs": [
    {
     "data": {
      "text/plain": "[(1045.849976, 'BUY'),\n (1016.0599980000001, 'SELL'),\n (1070.709961, 'HOLD'),\n (1068.390015, 'HOLD'),\n (1076.280029, 'HOLD'),\n (1074.660034, 'HOLD'),\n (1070.329956, 'BUY'),\n (1057.189941, 'BUY'),\n (1044.689941, 'BUY'),\n (1077.150024, 'HOLD'),\n (1080.969971, 'HOLD'),\n (1089.900024, 'HOLD'),\n (1098.26001, 'SELL'),\n (1070.52002, 'HOLD'),\n (1075.569946, 'SELL'),\n (1073.900024, 'SELL'),\n (1090.98999, 'HOLD'),\n (1070.079956, 'HOLD'),\n (1060.619995, 'BUY')]"
     },
     "execution_count": 11,
     "metadata": {},
     "output_type": "execute_result"
    }
   ],
   "source": [
    "history"
   ],
   "metadata": {
    "collapsed": false,
    "ExecuteTime": {
     "end_time": "2024-03-15T06:41:33.752847Z",
     "start_time": "2024-03-15T06:41:33.714762Z"
    }
   },
   "execution_count": 11
  },
  {
   "cell_type": "markdown",
   "metadata": {},
   "source": [
    "### 4. Visualize"
   ]
  },
  {
   "cell_type": "code",
   "execution_count": 12,
   "metadata": {
    "ExecuteTime": {
     "end_time": "2024-03-15T06:41:35.183902Z",
     "start_time": "2024-03-15T06:41:35.155779Z"
    }
   },
   "outputs": [],
   "source": [
    "def visualize(df, history, title=\"trading session\"):\n",
    "    # add history to dataframe\n",
    "    position = [history[0][0]] + [x[0] for x in history]\n",
    "    actions = ['HOLD'] + [x[1] for x in history]\n",
    "    df['position'] = position\n",
    "    df['action'] = actions\n",
    "    \n",
    "    # specify y-axis scale for stock prices\n",
    "    scale = alt.Scale(domain=(min(min(df['actual']), min(df['position'])) - 50, max(max(df['actual']), max(df['position'])) + 50), clamp=True)\n",
    "    \n",
    "    # plot a line chart for stock positions\n",
    "    actual = alt.Chart(df).mark_line(\n",
    "        color='green',\n",
    "        opacity=0.5\n",
    "    ).encode(\n",
    "        x='date:T',\n",
    "        y=alt.Y('position', axis=alt.Axis(format='.2f', title='Price (VND)'), scale=scale)\n",
    "    ).interactive(\n",
    "        bind_y=False\n",
    "    )\n",
    "    \n",
    "    # plot the BUY and SELL actions as points\n",
    "    points = alt.Chart(df).transform_filter(\n",
    "        alt.datum.action != 'HOLD'\n",
    "    ).mark_point(\n",
    "        filled=True\n",
    "    ).encode(\n",
    "        x=alt.X('date:T', axis=alt.Axis(title='Date')),\n",
    "        y=alt.Y('position', axis=alt.Axis(format='.2f', title='Price (VND)'), scale=scale),\n",
    "        color='action'\n",
    "    ).interactive(bind_y=False)\n",
    "\n",
    "    # merge the two charts\n",
    "    chart = alt.layer(actual, points, title=title).properties(height=300, width=1000)\n",
    "    \n",
    "    return chart"
   ]
  },
  {
   "cell_type": "code",
   "outputs": [
    {
     "data": {
      "text/html": "\n<div id=\"altair-viz-2\"></div>\n<script type=\"text/javascript\">\n  (function(spec, embedOpt){\n    const outputDiv = document.getElementById(\"altair-viz-2\");\n    const paths = {\n      \"vega\": \"https://cdn.jsdelivr.net/npm//vega@5?noext\",\n      \"vega-lib\": \"https://cdn.jsdelivr.net/npm//vega-lib?noext\",\n      \"vega-lite\": \"https://cdn.jsdelivr.net/npm//vega-lite@4.0.0?noext\",\n      \"vega-embed\": \"https://cdn.jsdelivr.net/npm//vega-embed@6?noext\",\n    };\n\n    function loadScript(lib) {\n      return new Promise(function(resolve, reject) {\n        var s = document.createElement('script');\n        s.src = paths[lib];\n        s.async = true;\n        s.onload = () => resolve(paths[lib]);\n        s.onerror = () => reject(`Error loading script: ${paths[lib]}`);\n        document.getElementsByTagName(\"head\")[0].appendChild(s);\n      });\n    }\n\n    function showError(err) {\n      outputDiv.innerHTML = `<div class=\"error\" style=\"color:red;\">${err}</div>`;\n      throw err;\n    }\n\n    function displayChart(vegaEmbed) {\n      vegaEmbed(outputDiv, spec, embedOpt)\n        .catch(err => showError(`Javascript Error: ${err.message}<br>This usually means there's a typo in your chart specification. See the javascript console for the full traceback.`));\n    }\n\n    if(typeof define === \"function\" && define.amd) {\n      requirejs.config({paths});\n      require([\"vega-embed\"], displayChart, err => showError(`Error loading script: ${err.message}`));\n    } else if (typeof vegaEmbed === \"function\") {\n      displayChart(vegaEmbed);\n    } else {\n      loadScript(\"vega\")\n        .then(() => loadScript(\"vega-lite\"))\n        .then(() => loadScript(\"vega-embed\"))\n        .catch(showError)\n        .then(() => displayChart(vegaEmbed));\n    }\n  })({\"config\": {\"view\": {\"continuousWidth\": 400, \"continuousHeight\": 300}}, \"layer\": [{\"mark\": {\"type\": \"line\", \"color\": \"green\", \"opacity\": 0.5}, \"encoding\": {\"x\": {\"type\": \"temporal\", \"field\": \"date\"}, \"y\": {\"type\": \"quantitative\", \"axis\": {\"format\": \".2f\", \"title\": \"Price (VND)\"}, \"field\": \"position\", \"scale\": {\"clamp\": true, \"domain\": [966.0599980000001, 1148.26001]}}}, \"selection\": {\"selector003\": {\"type\": \"interval\", \"bind\": \"scales\", \"encodings\": [\"x\"]}}}, {\"mark\": {\"type\": \"point\", \"filled\": true}, \"encoding\": {\"color\": {\"type\": \"nominal\", \"field\": \"action\"}, \"x\": {\"type\": \"temporal\", \"axis\": {\"title\": \"Date\"}, \"field\": \"date\"}, \"y\": {\"type\": \"quantitative\", \"axis\": {\"format\": \".2f\", \"title\": \"Price (VND)\"}, \"field\": \"position\", \"scale\": {\"clamp\": true, \"domain\": [966.0599980000001, 1148.26001]}}}, \"selection\": {\"selector004\": {\"type\": \"interval\", \"bind\": \"scales\", \"encodings\": [\"x\"]}}, \"transform\": [{\"filter\": \"(datum.action !== 'HOLD')\"}]}], \"data\": {\"name\": \"data-28824c35d1343f4a92a3f57000f52b1c\"}, \"height\": 300, \"title\": \"data/2019cut.csv\", \"width\": 1000, \"$schema\": \"https://vega.github.io/schema/vega-lite/v4.0.0.json\", \"datasets\": {\"data-28824c35d1343f4a92a3f57000f52b1c\": [{\"date\": \"2019-01-02T00:00:00\", \"actual\": 1045.849976, \"position\": 1045.849976, \"action\": \"HOLD\"}, {\"date\": \"2019-01-03T00:00:00\", \"actual\": 1016.0599980000001, \"position\": 1045.849976, \"action\": \"BUY\"}, {\"date\": \"2019-01-04T00:00:00\", \"actual\": 1070.709961, \"position\": 1016.0599980000001, \"action\": \"SELL\"}, {\"date\": \"2019-01-07T00:00:00\", \"actual\": 1068.390015, \"position\": 1070.709961, \"action\": \"HOLD\"}, {\"date\": \"2019-01-08T00:00:00\", \"actual\": 1076.280029, \"position\": 1068.390015, \"action\": \"HOLD\"}, {\"date\": \"2019-01-09T00:00:00\", \"actual\": 1074.660034, \"position\": 1076.280029, \"action\": \"HOLD\"}, {\"date\": \"2019-01-10T00:00:00\", \"actual\": 1070.329956, \"position\": 1074.660034, \"action\": \"HOLD\"}, {\"date\": \"2019-01-11T00:00:00\", \"actual\": 1057.189941, \"position\": 1070.329956, \"action\": \"BUY\"}, {\"date\": \"2019-01-14T00:00:00\", \"actual\": 1044.689941, \"position\": 1057.189941, \"action\": \"BUY\"}, {\"date\": \"2019-01-15T00:00:00\", \"actual\": 1077.150024, \"position\": 1044.689941, \"action\": \"BUY\"}, {\"date\": \"2019-01-16T00:00:00\", \"actual\": 1080.969971, \"position\": 1077.150024, \"action\": \"HOLD\"}, {\"date\": \"2019-01-17T00:00:00\", \"actual\": 1089.900024, \"position\": 1080.969971, \"action\": \"HOLD\"}, {\"date\": \"2019-01-18T00:00:00\", \"actual\": 1098.26001, \"position\": 1089.900024, \"action\": \"HOLD\"}, {\"date\": \"2019-01-22T00:00:00\", \"actual\": 1070.52002, \"position\": 1098.26001, \"action\": \"SELL\"}, {\"date\": \"2019-01-23T00:00:00\", \"actual\": 1075.569946, \"position\": 1070.52002, \"action\": \"HOLD\"}, {\"date\": \"2019-01-24T00:00:00\", \"actual\": 1073.900024, \"position\": 1075.569946, \"action\": \"SELL\"}, {\"date\": \"2019-01-25T00:00:00\", \"actual\": 1090.98999, \"position\": 1073.900024, \"action\": \"SELL\"}, {\"date\": \"2019-01-28T00:00:00\", \"actual\": 1070.079956, \"position\": 1090.98999, \"action\": \"HOLD\"}, {\"date\": \"2019-01-29T00:00:00\", \"actual\": 1060.619995, \"position\": 1070.079956, \"action\": \"HOLD\"}, {\"date\": \"2019-01-30T00:00:00\", \"actual\": 1089.060059, \"position\": 1060.619995, \"action\": \"BUY\"}]}}, {\"mode\": \"vega-lite\"});\n</script>",
      "text/plain": "alt.LayerChart(...)"
     },
     "execution_count": 13,
     "metadata": {},
     "output_type": "execute_result"
    }
   ],
   "source": [
    "chart = visualize(df, history, title=test_stock)\n",
    "chart"
   ],
   "metadata": {
    "collapsed": false,
    "ExecuteTime": {
     "end_time": "2024-03-15T06:41:36.378502Z",
     "start_time": "2024-03-15T06:41:36.288606Z"
    }
   },
   "execution_count": 13
  },
  {
   "cell_type": "code",
   "outputs": [
    {
     "data": {
      "text/plain": "        date       actual     position action\n0 2019-01-02  1045.849976  1045.849976   HOLD\n1 2019-01-03  1016.059998  1045.849976    BUY\n2 2019-01-04  1070.709961  1016.059998   SELL\n3 2019-01-07  1068.390015  1070.709961   HOLD\n4 2019-01-08  1076.280029  1068.390015   HOLD",
      "text/html": "<div>\n<style scoped>\n    .dataframe tbody tr th:only-of-type {\n        vertical-align: middle;\n    }\n\n    .dataframe tbody tr th {\n        vertical-align: top;\n    }\n\n    .dataframe thead th {\n        text-align: right;\n    }\n</style>\n<table border=\"1\" class=\"dataframe\">\n  <thead>\n    <tr style=\"text-align: right;\">\n      <th></th>\n      <th>date</th>\n      <th>actual</th>\n      <th>position</th>\n      <th>action</th>\n    </tr>\n  </thead>\n  <tbody>\n    <tr>\n      <th>0</th>\n      <td>2019-01-02</td>\n      <td>1045.849976</td>\n      <td>1045.849976</td>\n      <td>HOLD</td>\n    </tr>\n    <tr>\n      <th>1</th>\n      <td>2019-01-03</td>\n      <td>1016.059998</td>\n      <td>1045.849976</td>\n      <td>BUY</td>\n    </tr>\n    <tr>\n      <th>2</th>\n      <td>2019-01-04</td>\n      <td>1070.709961</td>\n      <td>1016.059998</td>\n      <td>SELL</td>\n    </tr>\n    <tr>\n      <th>3</th>\n      <td>2019-01-07</td>\n      <td>1068.390015</td>\n      <td>1070.709961</td>\n      <td>HOLD</td>\n    </tr>\n    <tr>\n      <th>4</th>\n      <td>2019-01-08</td>\n      <td>1076.280029</td>\n      <td>1068.390015</td>\n      <td>HOLD</td>\n    </tr>\n  </tbody>\n</table>\n</div>"
     },
     "execution_count": 62,
     "metadata": {},
     "output_type": "execute_result"
    }
   ],
   "source": [
    "df.head()"
   ],
   "metadata": {
    "collapsed": false,
    "ExecuteTime": {
     "end_time": "2024-03-13T16:44:43.435659Z",
     "start_time": "2024-03-13T16:44:43.405722Z"
    }
   },
   "execution_count": 62
  },
  {
   "cell_type": "code",
   "outputs": [],
   "source": [
    "import pandas as pd\n",
    "import os\n",
    "\n",
    "# Đường dẫn đến thư mục\n",
    "directory = r'D:\\Test1\\trading-bot-master\\extra'\n",
    "\n",
    "# Đảm bảo rằng đường dẫn tồn tại\n",
    "if not os.path.exists(directory):\n",
    "    os.makedirs(directory)\n",
    "\n",
    "# Lưu DataFrame thành file CSV\n",
    "df.to_csv(os.path.join(directory, f'{model_name}_result.csv'), index=False)\n"
   ],
   "metadata": {
    "collapsed": false,
    "ExecuteTime": {
     "end_time": "2024-03-13T16:44:03.026704Z",
     "start_time": "2024-03-13T16:44:03.004516Z"
    }
   },
   "execution_count": 61
  }
 ],
 "metadata": {
  "kernelspec": {
   "display_name": "Python 3",
   "language": "python",
   "name": "python3"
  },
  "language_info": {
   "codemirror_mode": {
    "name": "ipython",
    "version": 3
   },
   "file_extension": ".py",
   "mimetype": "text/x-python",
   "name": "python",
   "nbconvert_exporter": "python",
   "pygments_lexer": "ipython3",
   "version": "3.6.8"
  }
 },
 "nbformat": 4,
 "nbformat_minor": 4
}
